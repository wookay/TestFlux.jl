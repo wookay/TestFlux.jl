{
 "cells": [
  {
   "cell_type": "code",
   "execution_count": 1,
   "metadata": {},
   "outputs": [],
   "source": [
    "# fashion mnist mlp\n",
    "#\n",
    "# reference: https://github.com/FluxML/model-zoo/blob/master/mnist/mlp.jl"
   ]
  },
  {
   "cell_type": "code",
   "execution_count": 2,
   "metadata": {},
   "outputs": [
    {
     "data": {
      "text/plain": [
       "prepare_test (generic function with 1 method)"
      ]
     },
     "execution_count": 2,
     "metadata": {},
     "output_type": "execute_result"
    }
   ],
   "source": [
    "using Flux\n",
    "using Flux: onehotbatch, argmax, crossentropy, throttle, @epochs\n",
    "using BSON: @save, @load\n",
    "using Base.Iterators: repeated\n",
    "\n",
    "using MLDatasets # FashionMNIST\n",
    "using ColorTypes: N0f8, Gray\n",
    "\n",
    "const Img = Matrix{Gray{N0f8}}\n",
    "\n",
    "function prepare_train()\n",
    "    # load full training set\n",
    "    train_x, train_y = FashionMNIST.traindata() # 60_000\n",
    "\n",
    "    trainrange = 1:6_000 # 1:60_000\n",
    "    imgs = Img.([train_x[:,:,i] for i in trainrange])\n",
    "    # Stack images into one large batch\n",
    "    X = hcat(float.(reshape.(imgs, :))...) |> gpu\n",
    "    # One-hot-encode the labels\n",
    "    Y = onehotbatch(train_y[trainrange], 0:9) |> gpu\n",
    "    X, Y\n",
    "end\n",
    "\n",
    "function prepare_test()\n",
    "    # load full test set\n",
    "    test_x,  test_y  = FashionMNIST.testdata() # 10_000\n",
    "\n",
    "    testrange = 1:1_000 # 1:10_000\n",
    "    test_imgs = Img.([test_x[:,:,i] for i in testrange])\n",
    "    tX = hcat(float.(reshape.(test_imgs, :))...) |> gpu\n",
    "    tY = onehotbatch(test_y[testrange], 0:9) |> gpu\n",
    "    tX, tY\n",
    "end"
   ]
  },
  {
   "cell_type": "code",
   "execution_count": 3,
   "metadata": {},
   "outputs": [
    {
     "data": {
      "text/plain": [
       "(::#71) (generic function with 1 method)"
      ]
     },
     "execution_count": 3,
     "metadata": {},
     "output_type": "execute_result"
    }
   ],
   "source": [
    "X, Y = prepare_train()\n",
    "tX, tY = prepare_test()\n",
    "\n",
    "m = Chain(\n",
    "  Dense(28^2, 32, relu),\n",
    "  Dense(32, 10),\n",
    "  softmax) |> gpu\n",
    "\n",
    "loss(x, y) = crossentropy(m(x), y)\n",
    "\n",
    "accuracy(x, y) = mean(argmax(m(x)) .== argmax(y))\n",
    "\n",
    "dataset = repeated((X, Y), 200)\n",
    "evalcb = () -> @show(loss(X, Y))\n",
    "opt = ADAM(params(m))"
   ]
  },
  {
   "cell_type": "code",
   "execution_count": 4,
   "metadata": {},
   "outputs": [
    {
     "name": "stderr",
     "output_type": "stream",
     "text": [
      "\u001b[1m\u001b[36mINFO: \u001b[39m\u001b[22m\u001b[36mEpoch 1\n",
      "\u001b[39m"
     ]
    },
    {
     "name": "stdout",
     "output_type": "stream",
     "text": [
      "loss(X, Y) = 2.3015550915093077 (tracked)\n",
      "loss(X, Y) = 0.8855032571942232 (tracked)\n",
      "loss(X, Y) = 0.6416434557583437 (tracked)\n",
      "loss(X, Y) = 0.541326148273287 (tracked)\n",
      "loss(X, Y) = 0.48179262874649564 (tracked)\n",
      "loss(X, Y) = 0.43759184322745537 (tracked)\n",
      "loss(X, Y) = 0.4038686027324355 (tracked)\n",
      "loss(X, Y) = 0.3752677778454351 (tracked)\n"
     ]
    },
    {
     "name": "stderr",
     "output_type": "stream",
     "text": [
      "\u001b[1m\u001b[36mINFO: \u001b[39m\u001b[22m\u001b[36mEpoch 2\n",
      "\u001b[39m"
     ]
    },
    {
     "name": "stdout",
     "output_type": "stream",
     "text": [
      "loss(X, Y) = 0.37339573477617 (tracked)\n",
      "loss(X, Y) = 0.34900580044461926 (tracked)\n",
      "loss(X, Y) = 0.32657241548408367 (tracked)\n",
      "loss(X, Y) = 0.3076585024362067 (tracked)\n",
      "loss(X, Y) = 0.28964055129595195 (tracked)\n",
      "loss(X, Y) = 0.2735883810775052 (tracked)\n",
      "loss(X, Y) = 0.2585356075135701 (tracked)\n",
      "loss(X, Y) = 0.2459053835983541 (tracked)\n"
     ]
    },
    {
     "name": "stderr",
     "output_type": "stream",
     "text": [
      "\u001b[1m\u001b[36mINFO: \u001b[39m\u001b[22m\u001b[36mEpoch 3\n",
      "\u001b[39m"
     ]
    },
    {
     "name": "stdout",
     "output_type": "stream",
     "text": [
      "loss(X, Y) = 0.24080511146521177 (tracked)\n",
      "loss(X, Y) = 0.2289355641560989 (tracked)\n",
      "loss(X, Y) = 0.21716029263167755 (tracked)\n",
      "loss(X, Y) = 0.206020928398754 (tracked)\n",
      "loss(X, Y) = 0.19543263216624565 (tracked)\n",
      "loss(X, Y) = 0.18462336414055677 (tracked)\n",
      "loss(X, Y) = 0.17438605239311952 (tracked)\n",
      "loss(X, Y) = 0.16441522799281238 (tracked)\n"
     ]
    },
    {
     "name": "stderr",
     "output_type": "stream",
     "text": [
      "\u001b[1m\u001b[36mINFO: \u001b[39m\u001b[22m\u001b[36mEpoch 4\n",
      "\u001b[39m"
     ]
    },
    {
     "name": "stdout",
     "output_type": "stream",
     "text": [
      "loss(X, Y) = 0.15790689188090581 (tracked)\n",
      "loss(X, Y) = 0.1489303852719797 (tracked)\n",
      "loss(X, Y) = 0.1407690692366152 (tracked)\n",
      "loss(X, Y) = 0.13319247974534595 (tracked)\n",
      "loss(X, Y) = 0.12551529003305983 (tracked)\n",
      "loss(X, Y) = 0.11878615529760551 (tracked)\n",
      "loss(X, Y) = 0.11232176680217024 (tracked)\n",
      "loss(X, Y) = 0.10652097499550225 (tracked)\n"
     ]
    },
    {
     "name": "stderr",
     "output_type": "stream",
     "text": [
      "\u001b[1m\u001b[36mINFO: \u001b[39m\u001b[22m\u001b[36mEpoch 5\n",
      "\u001b[39m"
     ]
    },
    {
     "name": "stdout",
     "output_type": "stream",
     "text": [
      "loss(X, Y) = 0.10473497732555366 (tracked)\n",
      "loss(X, Y) = 0.09914006649404462 (tracked)\n",
      "loss(X, Y) = 0.09392987895425263 (tracked)\n",
      "loss(X, Y) = 0.08874919289669157 (tracked)\n",
      "loss(X, Y) = 0.08439056644404323 (tracked)\n",
      "loss(X, Y) = 0.08015316590749122 (tracked)\n",
      "loss(X, Y) = 0.07605457560769505 (tracked)\n",
      "loss(X, Y) = 0.07206892567811944 (tracked)\n"
     ]
    }
   ],
   "source": [
    "@epochs 5 Flux.train!(loss, dataset, opt, cb = throttle(evalcb, 2))\n"
   ]
  },
  {
   "cell_type": "code",
   "execution_count": 5,
   "metadata": {},
   "outputs": [
    {
     "data": {
      "text/plain": [
       "0.9886666666666667"
      ]
     },
     "execution_count": 5,
     "metadata": {},
     "output_type": "execute_result"
    }
   ],
   "source": [
    "accuracy(X, Y)"
   ]
  },
  {
   "cell_type": "code",
   "execution_count": 6,
   "metadata": {},
   "outputs": [
    {
     "data": {
      "text/plain": [
       "0.833"
      ]
     },
     "execution_count": 6,
     "metadata": {},
     "output_type": "execute_result"
    }
   ],
   "source": [
    "accuracy(tX, tY)"
   ]
  },
  {
   "cell_type": "code",
   "execution_count": null,
   "metadata": {},
   "outputs": [],
   "source": []
  }
 ],
 "metadata": {
  "kernelspec": {
   "display_name": "Julia 0.6.2",
   "language": "julia",
   "name": "julia-0.6"
  },
  "language_info": {
   "file_extension": ".jl",
   "mimetype": "application/julia",
   "name": "julia",
   "version": "0.6.2"
  }
 },
 "nbformat": 4,
 "nbformat_minor": 2
}
